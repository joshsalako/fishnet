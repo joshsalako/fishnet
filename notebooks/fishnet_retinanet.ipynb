{
  "nbformat": 4,
  "nbformat_minor": 0,
  "metadata": {
    "colab": {
      "provenance": [],
      "gpuType": "T4",
      "mount_file_id": "1_8X1ALLmO4tMc9aw0uDNqzjAX7jOL-_d",
      "authorship_tag": "ABX9TyPrFRo041kNmJgo8Y8A8U6h",
      "include_colab_link": true
    },
    "kernelspec": {
      "name": "python3",
      "display_name": "Python 3"
    },
    "language_info": {
      "name": "python"
    },
    "accelerator": "GPU"
  },
  "cells": [
    {
      "cell_type": "markdown",
      "metadata": {
        "id": "view-in-github",
        "colab_type": "text"
      },
      "source": [
        "<a href=\"https://colab.research.google.com/github/joshsalako/fishnet/blob/main/fishnet_retinanet.ipynb\" target=\"_parent\"><img src=\"https://colab.research.google.com/assets/colab-badge.svg\" alt=\"Open In Colab\"/></a>"
      ]
    },
    {
      "cell_type": "code",
      "execution_count": 1,
      "metadata": {
        "id": "vpzpf-RScKhS"
      },
      "outputs": [],
      "source": [
        "import torch\n",
        "from torch.utils.data import DataLoader\n",
        "from torchvision.models.detection import retinanet_resnet50_fpn\n",
        "from torchvision.datasets import VOCDetection\n",
        "import torchvision.transforms as T\n",
        "from torch.optim import SGD, Adam\n",
        "from torchvision.models.detection.retinanet import RetinaNetHead\n",
        "from torchvision.datasets.vision import StandardTransform\n",
        "import torchvision\n",
        "from torchvision.transforms import functional as F\n",
        "from pycocotools.coco import COCO\n",
        "from pycocotools.cocoeval import COCOeval\n",
        "from torchvision.datasets.coco import CocoDetection\n",
        "from torch.optim.lr_scheduler import ReduceLROnPlateau\n",
        "import csv\n",
        "import albumentations as A\n",
        "from sklearn.metrics import precision_recall_curve, average_precision_score\n",
        "from albumentations.pytorch import ToTensorV2\n",
        "import numpy as np\n",
        "import matplotlib.pyplot as plt"
      ]
    },
    {
      "cell_type": "code",
      "source": [
        "train_dataset = VOCDetection(root='/content/drive/MyDrive/Catfish',\n",
        "                             year='2007',\n",
        "                             image_set='train',\n",
        "                             #transform=transform,\n",
        "                             download=False)\n",
        "val_dataset = VOCDetection(root='/content/drive/MyDrive/Catfish',\n",
        "                             year='2007',\n",
        "                             image_set='val',\n",
        "                             #transform=transform,\n",
        "                             download=False)"
      ],
      "metadata": {
        "id": "xgR9nI-H6FlN"
      },
      "execution_count": 12,
      "outputs": []
    },
    {
      "cell_type": "code",
      "source": [
        "label_to_int = {'fish': 1}  # Adjust this mapping to include all your labels\n",
        "\n",
        "def custom_collate(batch):\n",
        "    processed_images = []\n",
        "    processed_targets = []\n",
        "\n",
        "    transform = A.Compose([\n",
        "        A.Resize(224, 224),\n",
        "        A.HorizontalFlip(p=0.5),\n",
        "        A.VerticalFlip(p=0.5),\n",
        "        A.Rotate(limit=15, p=0.5),\n",
        "        A.Normalize(mean=[0.485, 0.456, 0.406], std=[0.229, 0.224, 0.225]),\n",
        "        ToTensorV2()\n",
        "    ], bbox_params=A.BboxParams(format='pascal_voc', label_fields=['class_labels']))\n",
        "\n",
        "    for img, target in batch:\n",
        "        img = np.array(img)  # Convert PIL Image to numpy array\n",
        "        boxes = boxes = [[float(coord) for coord in obj['bndbox'].values()] for obj in target['annotation']['object']]\n",
        "        labels = [label_to_int[obj['name']] for obj in target['annotation']['object']]\n",
        "        transformed = transform(image=img, bboxes=boxes, class_labels=labels)\n",
        "        processed_images.append(transformed['image'])\n",
        "        processed_targets.append({\n",
        "            'boxes': torch.tensor(transformed['bboxes'], dtype=torch.float32),\n",
        "            'labels': torch.tensor(transformed['class_labels'], dtype=torch.long)\n",
        "        })\n",
        "\n",
        "    return torch.stack(processed_images), processed_targets\n",
        "\n",
        "def custom_collate_val(batch):\n",
        "    processed_images = []\n",
        "    processed_targets = []\n",
        "\n",
        "    transform = A.Compose([\n",
        "        A.Resize(224, 224),\n",
        "        #A.HorizontalFlip(p=0.5),\n",
        "        #A.VerticalFlip(p=0.5),\n",
        "        #A.Rotate(limit=30, p=0.5),\n",
        "        A.Normalize(mean=[0.485, 0.456, 0.406], std=[0.229, 0.224, 0.225]),\n",
        "        ToTensorV2()\n",
        "    ], bbox_params=A.BboxParams(format='pascal_voc', label_fields=['class_labels']))\n",
        "\n",
        "    for img, target in batch:\n",
        "        img = np.array(img)  # Convert PIL Image to numpy array\n",
        "        boxes = boxes = [[float(coord) for coord in obj['bndbox'].values()] for obj in target['annotation']['object']]\n",
        "        labels = [label_to_int[obj['name']] for obj in target['annotation']['object']]\n",
        "        transformed = transform(image=img, bboxes=boxes, class_labels=labels)\n",
        "        processed_images.append(transformed['image'])\n",
        "        processed_targets.append({\n",
        "            'boxes': torch.tensor(transformed['bboxes'], dtype=torch.float32),\n",
        "            'labels': torch.tensor(transformed['class_labels'], dtype=torch.long)\n",
        "        })\n",
        "\n",
        "    return torch.stack(processed_images), processed_targets"
      ],
      "metadata": {
        "id": "RhiwFZUPfnCL"
      },
      "execution_count": 13,
      "outputs": []
    },
    {
      "cell_type": "code",
      "source": [
        "train_loader = DataLoader(train_dataset, batch_size=8, shuffle=True, collate_fn=custom_collate)\n",
        "val_loader = DataLoader(val_dataset, batch_size=8, shuffle=False, collate_fn=custom_collate_val)"
      ],
      "metadata": {
        "id": "0s7KbLOCZYeE"
      },
      "execution_count": 15,
      "outputs": []
    },
    {
      "cell_type": "code",
      "source": [
        "# Step 2: Load the pre-trained RetinaNet model\n",
        "model = retinanet_resnet50_fpn(pretrained=True)\n",
        "\n",
        "# Step 3: Modify the model for your specific task\n",
        "num_classes = 2  # Get number of classes from VOC dataset\n",
        "\n",
        "# Create a new RetinaNet head with the correct number of classes\n",
        "new_head = RetinaNetHead(\n",
        "    in_channels=model.backbone.out_channels,\n",
        "    num_anchors=model.head.classification_head.num_anchors,\n",
        "    num_classes=num_classes  # New number of classes\n",
        ")\n",
        "\n",
        "# Replace the existing head with the new head\n",
        "model.head = new_head"
      ],
      "metadata": {
        "id": "niI142yLdLrh",
        "colab": {
          "base_uri": "https://localhost:8080/"
        },
        "outputId": "23c9681e-f416-4713-cb99-ade30d4ba083"
      },
      "execution_count": 16,
      "outputs": [
        {
          "output_type": "stream",
          "name": "stderr",
          "text": [
            "/usr/local/lib/python3.10/dist-packages/torchvision/models/_utils.py:208: UserWarning: The parameter 'pretrained' is deprecated since 0.13 and may be removed in the future, please use 'weights' instead.\n",
            "  warnings.warn(\n",
            "/usr/local/lib/python3.10/dist-packages/torchvision/models/_utils.py:223: UserWarning: Arguments other than a weight enum or `None` for 'weights' are deprecated since 0.13 and may be removed in the future. The current behavior is equivalent to passing `weights=RetinaNet_ResNet50_FPN_Weights.COCO_V1`. You can also use `weights=RetinaNet_ResNet50_FPN_Weights.DEFAULT` to get the most up-to-date weights.\n",
            "  warnings.warn(msg)\n"
          ]
        }
      ]
    },
    {
      "cell_type": "code",
      "source": [
        "def print_model_summary(model):\n",
        "    print(\"Model Summary:\\n\")\n",
        "    for name, param in model.named_parameters():\n",
        "        print(f\"Layer: {name} | Size: {param.size()} | Trainable: {param.requires_grad}\")\n",
        "\n",
        "print_model_summary(model)"
      ],
      "metadata": {
        "colab": {
          "base_uri": "https://localhost:8080/"
        },
        "id": "Sp4A7tQHC9BX",
        "outputId": "fc16d17d-7dac-41c5-d8f0-40341f4081dd"
      },
      "execution_count": 17,
      "outputs": [
        {
          "output_type": "stream",
          "name": "stdout",
          "text": [
            "Model Summary:\n",
            "\n",
            "Layer: backbone.body.conv1.weight | Size: torch.Size([64, 3, 7, 7]) | Trainable: False\n",
            "Layer: backbone.body.layer1.0.conv1.weight | Size: torch.Size([64, 64, 1, 1]) | Trainable: False\n",
            "Layer: backbone.body.layer1.0.conv2.weight | Size: torch.Size([64, 64, 3, 3]) | Trainable: False\n",
            "Layer: backbone.body.layer1.0.conv3.weight | Size: torch.Size([256, 64, 1, 1]) | Trainable: False\n",
            "Layer: backbone.body.layer1.0.downsample.0.weight | Size: torch.Size([256, 64, 1, 1]) | Trainable: False\n",
            "Layer: backbone.body.layer1.1.conv1.weight | Size: torch.Size([64, 256, 1, 1]) | Trainable: False\n",
            "Layer: backbone.body.layer1.1.conv2.weight | Size: torch.Size([64, 64, 3, 3]) | Trainable: False\n",
            "Layer: backbone.body.layer1.1.conv3.weight | Size: torch.Size([256, 64, 1, 1]) | Trainable: False\n",
            "Layer: backbone.body.layer1.2.conv1.weight | Size: torch.Size([64, 256, 1, 1]) | Trainable: False\n",
            "Layer: backbone.body.layer1.2.conv2.weight | Size: torch.Size([64, 64, 3, 3]) | Trainable: False\n",
            "Layer: backbone.body.layer1.2.conv3.weight | Size: torch.Size([256, 64, 1, 1]) | Trainable: False\n",
            "Layer: backbone.body.layer2.0.conv1.weight | Size: torch.Size([128, 256, 1, 1]) | Trainable: True\n",
            "Layer: backbone.body.layer2.0.conv2.weight | Size: torch.Size([128, 128, 3, 3]) | Trainable: True\n",
            "Layer: backbone.body.layer2.0.conv3.weight | Size: torch.Size([512, 128, 1, 1]) | Trainable: True\n",
            "Layer: backbone.body.layer2.0.downsample.0.weight | Size: torch.Size([512, 256, 1, 1]) | Trainable: True\n",
            "Layer: backbone.body.layer2.1.conv1.weight | Size: torch.Size([128, 512, 1, 1]) | Trainable: True\n",
            "Layer: backbone.body.layer2.1.conv2.weight | Size: torch.Size([128, 128, 3, 3]) | Trainable: True\n",
            "Layer: backbone.body.layer2.1.conv3.weight | Size: torch.Size([512, 128, 1, 1]) | Trainable: True\n",
            "Layer: backbone.body.layer2.2.conv1.weight | Size: torch.Size([128, 512, 1, 1]) | Trainable: True\n",
            "Layer: backbone.body.layer2.2.conv2.weight | Size: torch.Size([128, 128, 3, 3]) | Trainable: True\n",
            "Layer: backbone.body.layer2.2.conv3.weight | Size: torch.Size([512, 128, 1, 1]) | Trainable: True\n",
            "Layer: backbone.body.layer2.3.conv1.weight | Size: torch.Size([128, 512, 1, 1]) | Trainable: True\n",
            "Layer: backbone.body.layer2.3.conv2.weight | Size: torch.Size([128, 128, 3, 3]) | Trainable: True\n",
            "Layer: backbone.body.layer2.3.conv3.weight | Size: torch.Size([512, 128, 1, 1]) | Trainable: True\n",
            "Layer: backbone.body.layer3.0.conv1.weight | Size: torch.Size([256, 512, 1, 1]) | Trainable: True\n",
            "Layer: backbone.body.layer3.0.conv2.weight | Size: torch.Size([256, 256, 3, 3]) | Trainable: True\n",
            "Layer: backbone.body.layer3.0.conv3.weight | Size: torch.Size([1024, 256, 1, 1]) | Trainable: True\n",
            "Layer: backbone.body.layer3.0.downsample.0.weight | Size: torch.Size([1024, 512, 1, 1]) | Trainable: True\n",
            "Layer: backbone.body.layer3.1.conv1.weight | Size: torch.Size([256, 1024, 1, 1]) | Trainable: True\n",
            "Layer: backbone.body.layer3.1.conv2.weight | Size: torch.Size([256, 256, 3, 3]) | Trainable: True\n",
            "Layer: backbone.body.layer3.1.conv3.weight | Size: torch.Size([1024, 256, 1, 1]) | Trainable: True\n",
            "Layer: backbone.body.layer3.2.conv1.weight | Size: torch.Size([256, 1024, 1, 1]) | Trainable: True\n",
            "Layer: backbone.body.layer3.2.conv2.weight | Size: torch.Size([256, 256, 3, 3]) | Trainable: True\n",
            "Layer: backbone.body.layer3.2.conv3.weight | Size: torch.Size([1024, 256, 1, 1]) | Trainable: True\n",
            "Layer: backbone.body.layer3.3.conv1.weight | Size: torch.Size([256, 1024, 1, 1]) | Trainable: True\n",
            "Layer: backbone.body.layer3.3.conv2.weight | Size: torch.Size([256, 256, 3, 3]) | Trainable: True\n",
            "Layer: backbone.body.layer3.3.conv3.weight | Size: torch.Size([1024, 256, 1, 1]) | Trainable: True\n",
            "Layer: backbone.body.layer3.4.conv1.weight | Size: torch.Size([256, 1024, 1, 1]) | Trainable: True\n",
            "Layer: backbone.body.layer3.4.conv2.weight | Size: torch.Size([256, 256, 3, 3]) | Trainable: True\n",
            "Layer: backbone.body.layer3.4.conv3.weight | Size: torch.Size([1024, 256, 1, 1]) | Trainable: True\n",
            "Layer: backbone.body.layer3.5.conv1.weight | Size: torch.Size([256, 1024, 1, 1]) | Trainable: True\n",
            "Layer: backbone.body.layer3.5.conv2.weight | Size: torch.Size([256, 256, 3, 3]) | Trainable: True\n",
            "Layer: backbone.body.layer3.5.conv3.weight | Size: torch.Size([1024, 256, 1, 1]) | Trainable: True\n",
            "Layer: backbone.body.layer4.0.conv1.weight | Size: torch.Size([512, 1024, 1, 1]) | Trainable: True\n",
            "Layer: backbone.body.layer4.0.conv2.weight | Size: torch.Size([512, 512, 3, 3]) | Trainable: True\n",
            "Layer: backbone.body.layer4.0.conv3.weight | Size: torch.Size([2048, 512, 1, 1]) | Trainable: True\n",
            "Layer: backbone.body.layer4.0.downsample.0.weight | Size: torch.Size([2048, 1024, 1, 1]) | Trainable: True\n",
            "Layer: backbone.body.layer4.1.conv1.weight | Size: torch.Size([512, 2048, 1, 1]) | Trainable: True\n",
            "Layer: backbone.body.layer4.1.conv2.weight | Size: torch.Size([512, 512, 3, 3]) | Trainable: True\n",
            "Layer: backbone.body.layer4.1.conv3.weight | Size: torch.Size([2048, 512, 1, 1]) | Trainable: True\n",
            "Layer: backbone.body.layer4.2.conv1.weight | Size: torch.Size([512, 2048, 1, 1]) | Trainable: True\n",
            "Layer: backbone.body.layer4.2.conv2.weight | Size: torch.Size([512, 512, 3, 3]) | Trainable: True\n",
            "Layer: backbone.body.layer4.2.conv3.weight | Size: torch.Size([2048, 512, 1, 1]) | Trainable: True\n",
            "Layer: backbone.fpn.inner_blocks.0.0.weight | Size: torch.Size([256, 512, 1, 1]) | Trainable: True\n",
            "Layer: backbone.fpn.inner_blocks.0.0.bias | Size: torch.Size([256]) | Trainable: True\n",
            "Layer: backbone.fpn.inner_blocks.1.0.weight | Size: torch.Size([256, 1024, 1, 1]) | Trainable: True\n",
            "Layer: backbone.fpn.inner_blocks.1.0.bias | Size: torch.Size([256]) | Trainable: True\n",
            "Layer: backbone.fpn.inner_blocks.2.0.weight | Size: torch.Size([256, 2048, 1, 1]) | Trainable: True\n",
            "Layer: backbone.fpn.inner_blocks.2.0.bias | Size: torch.Size([256]) | Trainable: True\n",
            "Layer: backbone.fpn.layer_blocks.0.0.weight | Size: torch.Size([256, 256, 3, 3]) | Trainable: True\n",
            "Layer: backbone.fpn.layer_blocks.0.0.bias | Size: torch.Size([256]) | Trainable: True\n",
            "Layer: backbone.fpn.layer_blocks.1.0.weight | Size: torch.Size([256, 256, 3, 3]) | Trainable: True\n",
            "Layer: backbone.fpn.layer_blocks.1.0.bias | Size: torch.Size([256]) | Trainable: True\n",
            "Layer: backbone.fpn.layer_blocks.2.0.weight | Size: torch.Size([256, 256, 3, 3]) | Trainable: True\n",
            "Layer: backbone.fpn.layer_blocks.2.0.bias | Size: torch.Size([256]) | Trainable: True\n",
            "Layer: backbone.fpn.extra_blocks.p6.weight | Size: torch.Size([256, 256, 3, 3]) | Trainable: True\n",
            "Layer: backbone.fpn.extra_blocks.p6.bias | Size: torch.Size([256]) | Trainable: True\n",
            "Layer: backbone.fpn.extra_blocks.p7.weight | Size: torch.Size([256, 256, 3, 3]) | Trainable: True\n",
            "Layer: backbone.fpn.extra_blocks.p7.bias | Size: torch.Size([256]) | Trainable: True\n",
            "Layer: head.classification_head.conv.0.0.weight | Size: torch.Size([256, 256, 3, 3]) | Trainable: True\n",
            "Layer: head.classification_head.conv.0.0.bias | Size: torch.Size([256]) | Trainable: True\n",
            "Layer: head.classification_head.conv.1.0.weight | Size: torch.Size([256, 256, 3, 3]) | Trainable: True\n",
            "Layer: head.classification_head.conv.1.0.bias | Size: torch.Size([256]) | Trainable: True\n",
            "Layer: head.classification_head.conv.2.0.weight | Size: torch.Size([256, 256, 3, 3]) | Trainable: True\n",
            "Layer: head.classification_head.conv.2.0.bias | Size: torch.Size([256]) | Trainable: True\n",
            "Layer: head.classification_head.conv.3.0.weight | Size: torch.Size([256, 256, 3, 3]) | Trainable: True\n",
            "Layer: head.classification_head.conv.3.0.bias | Size: torch.Size([256]) | Trainable: True\n",
            "Layer: head.classification_head.cls_logits.weight | Size: torch.Size([18, 256, 3, 3]) | Trainable: True\n",
            "Layer: head.classification_head.cls_logits.bias | Size: torch.Size([18]) | Trainable: True\n",
            "Layer: head.regression_head.conv.0.0.weight | Size: torch.Size([256, 256, 3, 3]) | Trainable: True\n",
            "Layer: head.regression_head.conv.0.0.bias | Size: torch.Size([256]) | Trainable: True\n",
            "Layer: head.regression_head.conv.1.0.weight | Size: torch.Size([256, 256, 3, 3]) | Trainable: True\n",
            "Layer: head.regression_head.conv.1.0.bias | Size: torch.Size([256]) | Trainable: True\n",
            "Layer: head.regression_head.conv.2.0.weight | Size: torch.Size([256, 256, 3, 3]) | Trainable: True\n",
            "Layer: head.regression_head.conv.2.0.bias | Size: torch.Size([256]) | Trainable: True\n",
            "Layer: head.regression_head.conv.3.0.weight | Size: torch.Size([256, 256, 3, 3]) | Trainable: True\n",
            "Layer: head.regression_head.conv.3.0.bias | Size: torch.Size([256]) | Trainable: True\n",
            "Layer: head.regression_head.bbox_reg.weight | Size: torch.Size([36, 256, 3, 3]) | Trainable: True\n",
            "Layer: head.regression_head.bbox_reg.bias | Size: torch.Size([36]) | Trainable: True\n"
          ]
        }
      ]
    },
    {
      "cell_type": "code",
      "source": [
        "for param in model.backbone.parameters():\n",
        "    param.requires_grad = False"
      ],
      "metadata": {
        "id": "OllPkjLQCIj6"
      },
      "execution_count": 18,
      "outputs": []
    },
    {
      "cell_type": "code",
      "source": [
        "import os\n",
        "os.environ['CUDA_LAUNCH_BLOCKING'] = \"1\""
      ],
      "metadata": {
        "id": "r4tNuNwu0ilZ"
      },
      "execution_count": 19,
      "outputs": []
    },
    {
      "cell_type": "code",
      "source": [
        "# Check for GPU availability and set the device\n",
        "device = torch.device(\"cuda\" if torch.cuda.is_available() else \"cpu\")"
      ],
      "metadata": {
        "id": "dhW5O-JbMwxM"
      },
      "execution_count": 20,
      "outputs": []
    },
    {
      "cell_type": "code",
      "source": [
        "# Step 4: Train the model\n",
        "optimizer = Adam(model.parameters(), lr=0.005, weight_decay=0.0005)\n",
        "scheduler = ReduceLROnPlateau(optimizer, mode='min', factor=0.1, patience=5, verbose=True)\n",
        "num_epochs = 60\n",
        "min_val_loss = float('inf')\n",
        "\n",
        "# Check for GPU availability and set the device\n",
        "device = torch.device(\"cuda\" if torch.cuda.is_available() else \"cpu\")\n",
        "\n",
        "# Move model to the device\n",
        "model.to(device)\n",
        "\n",
        "# Create a CSV file to log the losses\n",
        "with open('/content/drive/MyDrive/Catfish/retina_loss_log.csv', mode='w', newline='') as file:\n",
        "    writer = csv.writer(file)\n",
        "    writer.writerow(['Epoch', 'Training Loss', 'Validation Loss'])\n",
        "\n",
        "    for epoch in range(num_epochs):\n",
        "        model.train()\n",
        "        train_loss = 0.0\n",
        "        for images, targets in train_loader:\n",
        "            # Move data to the device\n",
        "            images = list(image.to(device) for image in images)\n",
        "            targets = [{k: v.to(device) for k, v in t.items()} for t in targets]\n",
        "\n",
        "            optimizer.zero_grad()\n",
        "            loss_dict = model(images, targets)\n",
        "            losses = sum(loss for loss in loss_dict.values())\n",
        "            #print(losses)\n",
        "            losses.backward()\n",
        "            torch.nn.utils.clip_grad_norm_(model.parameters(), 1.0)  # Clip gradients\n",
        "            optimizer.step()\n",
        "\n",
        "            train_loss += losses.item()\n",
        "\n",
        "        # Calculate average training loss\n",
        "        train_loss /= len(train_loader)\n",
        "\n",
        "        #model.eval()\n",
        "        val_loss = 0.0\n",
        "        with torch.no_grad():\n",
        "            for images, targets in val_loader:\n",
        "                # Move data to the device\n",
        "                images = list(image.to(device) for image in images)\n",
        "                targets = [{k: v.to(device) for k, v in t.items()} for t in targets]\n",
        "\n",
        "                loss_dict = model(images, targets)\n",
        "                #print(loss_dict)\n",
        "                val_loss += sum(loss.item() for loss in loss_dict.values())\n",
        "\n",
        "        # Calculate average validation loss\n",
        "        val_loss /= len(val_loader)\n",
        "        # Step the scheduler\n",
        "        scheduler.step(val_loss)\n",
        "\n",
        "        if val_loss < min_val_loss:\n",
        "        # Update the minimum validation loss\n",
        "            min_val_loss = val_loss\n",
        "            # Save the model\n",
        "            torch.save(model.state_dict(), '/content/drive/MyDrive/Catfish/retinanet_model.pth')\n",
        "            print(f'Saving model at epoch {epoch} with Validation Loss: {val_loss:.4f}')\n",
        "\n",
        "        # Log losses to the CSV file\n",
        "        writer.writerow([epoch, train_loss, val_loss])\n",
        "\n",
        "        # Print losses\n",
        "        print(f'Epoch {epoch}, Training Loss: {train_loss:.4f}, Validation Loss: {val_loss:.4f}')"
      ],
      "metadata": {
        "id": "qIzAd-ZxdeoG",
        "colab": {
          "base_uri": "https://localhost:8080/"
        },
        "outputId": "8d71babf-e591-4505-adf0-286664edf20d"
      },
      "execution_count": 21,
      "outputs": [
        {
          "output_type": "stream",
          "name": "stdout",
          "text": [
            "Saving model at epoch 0 with Validation Loss: 1.6081\n",
            "Epoch 0, Training Loss: 4894.4873, Validation Loss: 1.6081\n",
            "Epoch 1, Training Loss: 3.0493, Validation Loss: 34.1506\n",
            "Epoch 2, Training Loss: 3.8750, Validation Loss: 1.7290\n",
            "Epoch 3, Training Loss: 3.5399, Validation Loss: 1.6596\n",
            "Epoch 4, Training Loss: 1.7127, Validation Loss: 1.8305\n",
            "Saving model at epoch 5 with Validation Loss: 1.4522\n",
            "Epoch 5, Training Loss: 1.7565, Validation Loss: 1.4522\n",
            "Epoch 6, Training Loss: 1.4486, Validation Loss: 1.6702\n",
            "Saving model at epoch 7 with Validation Loss: 1.1789\n",
            "Epoch 7, Training Loss: 1.5855, Validation Loss: 1.1789\n",
            "Epoch 8, Training Loss: 5.9440, Validation Loss: 1.7303\n",
            "Epoch 9, Training Loss: 4.8131, Validation Loss: 1.3185\n",
            "Epoch 10, Training Loss: 1.7355, Validation Loss: 1.3078\n",
            "Epoch 11, Training Loss: 1.2591, Validation Loss: 1.8390\n",
            "Epoch 12, Training Loss: 1.3315, Validation Loss: 1.3748\n",
            "Epoch 00014: reducing learning rate of group 0 to 5.0000e-04.\n",
            "Epoch 13, Training Loss: 1.3985, Validation Loss: 2.2773\n",
            "Saving model at epoch 14 with Validation Loss: 1.0921\n",
            "Epoch 14, Training Loss: 1.5067, Validation Loss: 1.0921\n",
            "Epoch 15, Training Loss: 1.0955, Validation Loss: 1.1675\n",
            "Saving model at epoch 16 with Validation Loss: 1.0902\n",
            "Epoch 16, Training Loss: 1.0527, Validation Loss: 1.0902\n",
            "Epoch 17, Training Loss: 1.0601, Validation Loss: 1.1027\n",
            "Epoch 18, Training Loss: 1.0653, Validation Loss: 1.1460\n",
            "Epoch 19, Training Loss: 1.0307, Validation Loss: 1.1221\n",
            "Epoch 20, Training Loss: 1.0415, Validation Loss: 1.2063\n",
            "Saving model at epoch 21 with Validation Loss: 1.0858\n",
            "Epoch 21, Training Loss: 1.0425, Validation Loss: 1.0858\n",
            "Epoch 22, Training Loss: 1.0366, Validation Loss: 1.1572\n",
            "Epoch 23, Training Loss: 1.0153, Validation Loss: 1.1572\n",
            "Epoch 24, Training Loss: 1.0310, Validation Loss: 1.1573\n",
            "Epoch 25, Training Loss: 1.0303, Validation Loss: 1.0867\n",
            "Saving model at epoch 26 with Validation Loss: 1.0665\n",
            "Epoch 26, Training Loss: 1.0134, Validation Loss: 1.0665\n",
            "Epoch 27, Training Loss: 0.9969, Validation Loss: 1.1229\n",
            "Saving model at epoch 28 with Validation Loss: 1.0423\n",
            "Epoch 28, Training Loss: 1.0079, Validation Loss: 1.0423\n",
            "Epoch 29, Training Loss: 1.0071, Validation Loss: 1.0799\n",
            "Epoch 30, Training Loss: 0.9910, Validation Loss: 1.1091\n",
            "Epoch 31, Training Loss: 0.9804, Validation Loss: 1.1084\n",
            "Saving model at epoch 32 with Validation Loss: 1.0235\n",
            "Epoch 32, Training Loss: 0.9877, Validation Loss: 1.0235\n",
            "Epoch 33, Training Loss: 0.9784, Validation Loss: 1.0711\n",
            "Epoch 34, Training Loss: 0.9740, Validation Loss: 1.1902\n",
            "Epoch 35, Training Loss: 0.9543, Validation Loss: 1.1048\n",
            "Epoch 36, Training Loss: 0.9766, Validation Loss: 1.0591\n",
            "Epoch 37, Training Loss: 0.9555, Validation Loss: 1.1590\n",
            "Epoch 00039: reducing learning rate of group 0 to 5.0000e-05.\n",
            "Epoch 38, Training Loss: 0.9444, Validation Loss: 1.1884\n",
            "Epoch 39, Training Loss: 0.9275, Validation Loss: 1.1427\n",
            "Epoch 40, Training Loss: 0.9215, Validation Loss: 1.1412\n",
            "Epoch 41, Training Loss: 0.9368, Validation Loss: 1.1912\n",
            "Epoch 42, Training Loss: 0.9134, Validation Loss: 1.1415\n",
            "Epoch 43, Training Loss: 0.9063, Validation Loss: 1.1488\n",
            "Epoch 00045: reducing learning rate of group 0 to 5.0000e-06.\n",
            "Epoch 44, Training Loss: 0.9273, Validation Loss: 1.1550\n",
            "Epoch 45, Training Loss: 0.9213, Validation Loss: 1.1527\n",
            "Epoch 46, Training Loss: 0.8960, Validation Loss: 1.1518\n",
            "Epoch 47, Training Loss: 0.9131, Validation Loss: 1.1510\n",
            "Epoch 48, Training Loss: 0.9038, Validation Loss: 1.1480\n",
            "Epoch 49, Training Loss: 0.9262, Validation Loss: 1.1466\n",
            "Epoch 00051: reducing learning rate of group 0 to 5.0000e-07.\n",
            "Epoch 50, Training Loss: 0.9073, Validation Loss: 1.1419\n",
            "Epoch 51, Training Loss: 0.9101, Validation Loss: 1.1418\n",
            "Epoch 52, Training Loss: 0.9154, Validation Loss: 1.1419\n",
            "Epoch 53, Training Loss: 0.9068, Validation Loss: 1.1418\n",
            "Epoch 54, Training Loss: 0.9005, Validation Loss: 1.1424\n",
            "Epoch 55, Training Loss: 0.9128, Validation Loss: 1.1430\n",
            "Epoch 00057: reducing learning rate of group 0 to 5.0000e-08.\n",
            "Epoch 56, Training Loss: 0.9152, Validation Loss: 1.1429\n",
            "Epoch 57, Training Loss: 0.9069, Validation Loss: 1.1430\n",
            "Epoch 58, Training Loss: 0.9240, Validation Loss: 1.1429\n",
            "Epoch 59, Training Loss: 0.9075, Validation Loss: 1.1429\n"
          ]
        }
      ]
    },
    {
      "cell_type": "code",
      "source": [
        "def compute_iou(box1, boxes2):\n",
        "    box1_area = (box1[2] - box1[0]) * (box1[3] - box1[1])\n",
        "    boxes2_area = (boxes2[:, 2] - boxes2[:, 0]) * (boxes2[:, 3] - boxes2[:, 1])\n",
        "\n",
        "    inter_x1 = torch.max(box1[0], boxes2[:, 0])\n",
        "    inter_y1 = torch.max(box1[1], boxes2[:, 1])\n",
        "    inter_x2 = torch.min(box1[2], boxes2[:, 2])\n",
        "    inter_y2 = torch.min(box1[3], boxes2[:, 3])\n",
        "\n",
        "    inter_area = torch.clamp((inter_x2 - inter_x1), min=0) * torch.clamp((inter_y2 - inter_y1), min=0)\n",
        "    union_area = box1_area + boxes2_area - inter_area\n",
        "\n",
        "    iou = inter_area / (union_area + 1e-6)  # Adding a small epsilon to avoid division by zero\n",
        "\n",
        "    return iou.cpu().numpy()\n",
        "\n",
        "def evaluate(model, val_loader, device):\n",
        "    model = model.to(device)\n",
        "    model.eval()  # Set the model to evaluation mode\n",
        "\n",
        "    all_labels50 = []\n",
        "    all_scores50 = []\n",
        "\n",
        "    all_labels75 = []\n",
        "    all_scores75 = []\n",
        "\n",
        "    with torch.no_grad():\n",
        "        for images, targets in val_loader:\n",
        "            images = list(img.to(device) for img in images)\n",
        "\n",
        "            outputs = model(images)\n",
        "\n",
        "            for output, target in zip(outputs, targets):\n",
        "                labels = np.zeros(len(output['boxes']))\n",
        "                scores = output['scores'].cpu().numpy()\n",
        "                labels75 = labels.copy()\n",
        "\n",
        "                for box in target['boxes']:\n",
        "                    ious = compute_iou(box, output['boxes'])\n",
        "                    labels[ious > 0.5] = 1\n",
        "\n",
        "                all_labels50.append(labels)\n",
        "                all_scores50.append(scores)\n",
        "\n",
        "                for box in target['boxes']:\n",
        "                    ious = compute_iou(box, output['boxes'])\n",
        "                    labels75[ious > 0.95] = 1\n",
        "\n",
        "                all_labels75.append(labels75)\n",
        "                all_scores75.append(scores)\n",
        "\n",
        "    all_labels50 = np.concatenate(all_labels50)\n",
        "    all_scores50 = np.concatenate(all_scores50)\n",
        "\n",
        "    all_labels75 = np.concatenate(all_labels75)\n",
        "    all_scores75 = np.concatenate(all_scores75)\n",
        "\n",
        "    precision50, recall50, _ = precision_recall_curve(all_labels50, all_scores50)\n",
        "    precision75, recall75, _ = precision_recall_curve(all_labels75, all_scores75)\n",
        "    ap_50 = average_precision_score(all_labels50, all_scores50)\n",
        "    ap_75 = average_precision_score(all_labels75, all_scores75)\n",
        "\n",
        "    mAP = (ap_50 + ap_75) / 2\n",
        "\n",
        "    avg_precision = np.mean(precision50)\n",
        "    avg_recall = np.mean(recall50)\n",
        "\n",
        "    print(f'Precision: {avg_precision}')\n",
        "    print(f'Recall: {avg_recall}')\n",
        "    print(f'AP50: {ap_50}')\n",
        "    print(f'AP95: {ap_75}')\n",
        "    print(f'mAP: {mAP}')\n",
        "\n",
        "    plt.figure()\n",
        "    plt.plot(recall50, precision50, marker='.')\n",
        "    plt.title('Precision-Recall curve')\n",
        "    plt.xlabel('Recall')\n",
        "    plt.ylabel('Precision')\n",
        "    plt.show()\n",
        "\n",
        "# Assume model, val_loader are already loaded/defined\n",
        "\n",
        "device = torch.device('cuda') if torch.cuda.is_available() else torch.device('cpu')\n",
        "\n",
        "# Call the evaluate function\n",
        "evaluate(model, val_loader, device)"
      ],
      "metadata": {
        "colab": {
          "base_uri": "https://localhost:8080/",
          "height": 628
        },
        "id": "TAFi2-TvqQFr",
        "outputId": "415fcbd9-1f32-4cc6-fa56-43c092146b7a"
      },
      "execution_count": 22,
      "outputs": [
        {
          "output_type": "stream",
          "name": "stderr",
          "text": [
            "/usr/local/lib/python3.10/dist-packages/sklearn/metrics/_ranking.py:891: UserWarning: No positive class found in y_true, recall is set to one for all thresholds.\n",
            "  warnings.warn(\n",
            "/usr/local/lib/python3.10/dist-packages/sklearn/metrics/_ranking.py:891: UserWarning: No positive class found in y_true, recall is set to one for all thresholds.\n",
            "  warnings.warn(\n"
          ]
        },
        {
          "output_type": "stream",
          "name": "stdout",
          "text": [
            "Precision: 0.12782352649884185\n",
            "Recall: 0.7961845730027549\n",
            "AP50: 0.2223488837338149\n",
            "AP95: -0.0\n",
            "mAP: 0.11117444186690745\n"
          ]
        },
        {
          "output_type": "display_data",
          "data": {
            "text/plain": [
              "<Figure size 640x480 with 1 Axes>"
            ],
            "image/png": "[encoded data removed]"
          },
          "metadata": {}
        }
      ]
    },
    {
      "cell_type": "code",
      "source": [],
      "metadata": {
        "id": "pVSX6wEWOpQp"
      },
      "execution_count": null,
      "outputs": []
    }
  ]
}
